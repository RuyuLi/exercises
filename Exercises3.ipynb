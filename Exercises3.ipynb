{
 "cells": [
  {
   "cell_type": "markdown",
   "metadata": {},
   "source": [
    "# Exercises for Session 3"
   ]
  },
  {
   "cell_type": "code",
   "execution_count": 1,
   "metadata": {
    "collapsed": true
   },
   "outputs": [],
   "source": [
    "from __future__ import print_function\n",
    "%matplotlib inline\n",
    "import numpy as np\n",
    "import matplotlib.pyplot as plt\n",
    "from scipy import stats, optimize, integrate"
   ]
  },
  {
   "cell_type": "markdown",
   "metadata": {},
   "source": [
    "### Exercises 1, 2 and 3"
   ]
  },
  {
   "cell_type": "code",
   "execution_count": 2,
   "metadata": {},
   "outputs": [
    {
     "data": {
      "text/plain": [
       "<matplotlib.text.Text at 0x11676cf60>"
      ]
     },
     "execution_count": 2,
     "metadata": {},
     "output_type": "execute_result"
    },
    {
     "data": {
      "image/png": "[encoded data removed]",
      "text/plain": [
       "<matplotlib.figure.Figure at 0x11419e9b0>"
      ]
     },
     "metadata": {},
     "output_type": "display_data"
    }
   ],
   "source": [
    "from scipy.special import yv, y0_zeros  # Bessel fn of 2nd kind\n",
    "    \n",
    "def f(z):\n",
    "    return yv(0, z)\n",
    "\n",
    "x = numpy.arange(0, 20, 0.01)\n",
    "plt.plot(x, f(x))\n",
    "plt.hlines(0, 0, 20)\n",
    "plt.axis(xmin=0, xmax=20)\n",
    "plt.xlabel('$x$')"
   ]
  },
  {
   "cell_type": "code",
   "execution_count": 3,
   "metadata": {},
   "outputs": [],
   "source": [
    "def yv0_roots(n):\n",
    "    i = 1\n",
    "    prevr = 0.0\n",
    "    t = 1.0\n",
    "    dt = 1.0\n",
    "    integral = 0.0\n",
    "    rlist = []  # store individual roots for checking\n",
    "    while i <= n:\n",
    "        # This is not totally general, but for simplicity we can use the\n",
    "        # observation that the roots are approx regularly separated\n",
    "        # (actually root separation tends to pi as n tends to infinity)\n",
    "        # and select starting points for fsolve which are spaced a\n",
    "        # bit closer together (here a factor of ~3).\n",
    "        r, info, flag, mesg = optimize.fsolve(f, t, full_output=True)\n",
    "        r = r[0]\n",
    "        deltar = abs(r - prevr)\n",
    "        # need to be careful to reject solutions that have been\n",
    "        # found previously or are too distant from starting point\n",
    "        if flag == 1 and abs(r - prevr) > 1e-5 and abs(r - t) < 1.5*dt:\n",
    "            # just add integral over new range, which is faster and more\n",
    "            # accurate when there are many oscillations within full range\n",
    "            a, aerr = integrate.quad(f, prevr, r)\n",
    "            integral += a\n",
    "            if i == n:\n",
    "                print('Root {:d} is at {:.3f}'.format(i, r))\n",
    "                print('Integral from zero to root {:d} is {:.3g}'.format(i, integral))\n",
    "            i += 1\n",
    "            prevr = r\n",
    "            rlist.append(r)\n",
    "        t += dt\n",
    "    return np.array(rlist)"
   ]
  },
  {
   "cell_type": "code",
   "execution_count": 4,
   "metadata": {},
   "outputs": [
    {
     "name": "stdout",
     "output_type": "stream",
     "text": [
      "Root 20 is at 60.478\n",
      "Integral from zero to root 20 is 0.103\n"
     ]
    },
    {
     "data": {
      "text/plain": [
       "array([  0.89357697,   3.95767842,   7.08605106,  10.22234504,\n",
       "        13.36109747,  16.50092244,  19.6413097 ,  22.78202805,\n",
       "        25.92295765,  29.06403025,  32.20520412,  35.34645231,\n",
       "        38.48775665,  41.62910447,  44.77048661,  47.91189633,\n",
       "        51.05332855,  54.19477936,  57.3362457 ,  60.47772516])"
      ]
     },
     "execution_count": 4,
     "metadata": {},
     "output_type": "execute_result"
    }
   ],
   "source": [
    "n = 20\n",
    "roots = yv0_roots(n)\n",
    "roots"
   ]
  },
  {
   "cell_type": "code",
   "execution_count": 5,
   "metadata": {},
   "outputs": [
    {
     "name": "stdout",
     "output_type": "stream",
     "text": [
      "Checks OK: True\n"
     ]
    }
   ],
   "source": [
    "# check roots\n",
    "if n < 140:\n",
    "    # this uses an hardcoded method which only applies up to n=139\n",
    "    rtrue = y0_zeros(n)[0]\n",
    "    ok = (numpy.abs(rtrue - roots) < 1e-5).all()\n",
    "    print('Checks OK:', ok)\n",
    "else:\n",
    "    # check the interval between each root is sensible (tested to n = 10000)\n",
    "    d = roots[1:] - roots[:-1]\n",
    "    ok = (d > 3) & (d < numpy.pi+1e-5)\n",
    "    print('Checks OK:', ok.all())\n",
    "    if not ok.all():\n",
    "        bad = numpy.logical_not(ok)\n",
    "        printbad.nonzero()[0], d[bad]"
   ]
  },
  {
   "cell_type": "markdown",
   "metadata": {},
   "source": [
    "### Exercises 4, 5 and 6"
   ]
  },
  {
   "cell_type": "code",
   "execution_count": 6,
   "metadata": {
    "collapsed": true
   },
   "outputs": [],
   "source": [
    "# create 100 samples from a Normal distribution\n",
    "# with mean 5 and standard deviation 1\n",
    "np.random.seed(54321)\n",
    "n = 100\n",
    "m = 5\n",
    "s = 1\n",
    "d = stats.norm.rvs(m, s, size=n)"
   ]
  },
  {
   "cell_type": "code",
   "execution_count": 7,
   "metadata": {},
   "outputs": [
    {
     "data": {
      "image/png": "[encoded data removed]",
      "text/plain": [
       "<matplotlib.figure.Figure at 0x119447f28>"
      ]
     },
     "metadata": {},
     "output_type": "display_data"
    }
   ],
   "source": [
    "# histogram the data - this can be done with numpy,\n",
    "# or simultaneously with plotting with pyplot\n",
    "#hx, hy = numpy.histogram(d, bins=10)\n",
    "hy, hx, p = plt.hist(d, bins=10, histtype='stepfilled')"
   ]
  },
  {
   "cell_type": "code",
   "execution_count": 8,
   "metadata": {
    "collapsed": true
   },
   "outputs": [],
   "source": [
    "# get the width of the bins and hence normalisation\n",
    "w = hx[1]-hx[0]\n",
    "a = n*w\n",
    "# get the centres of the bins\n",
    "hxc = 0.5*(hx[:-1] + hx[1:])"
   ]
  },
  {
   "cell_type": "code",
   "execution_count": 9,
   "metadata": {
    "collapsed": true
   },
   "outputs": [],
   "source": [
    "# returns the value of a Gaussian with specified amplitude,\n",
    "# mean and sigma, evaluated at x (just for convenience)\n",
    "def g(p, a, x):\n",
    "    m, s = p\n",
    "    return a * stats.norm.pdf(x, m, s)"
   ]
  },
  {
   "cell_type": "code",
   "execution_count": 10,
   "metadata": {
    "collapsed": true
   },
   "outputs": [],
   "source": [
    "# returns chisq of specified Gaussian for data (x, y)\n",
    "def f(p, a, x, y):\n",
    "    return ((y - g(p, a, x))**2).sum()"
   ]
  },
  {
   "cell_type": "code",
   "execution_count": 11,
   "metadata": {},
   "outputs": [
    {
     "data": {
      "text/plain": [
       "      fun: 101.20417934635331\n",
       " hess_inv: array([[  4.10260182e-04,   1.14938238e-05],\n",
       "       [  1.14938238e-05,   3.01092772e-04]])\n",
       "      jac: array([  0.00000000e+00,  -1.90734863e-06])\n",
       "  message: 'Optimization terminated successfully.'\n",
       "     nfev: 481\n",
       "      nit: 9\n",
       "     njev: 120\n",
       "   status: 0\n",
       "  success: True\n",
       "        x: array([ 5.26031668,  0.8557135 ])"
      ]
     },
     "execution_count": 11,
     "metadata": {},
     "output_type": "execute_result"
    }
   ],
   "source": [
    "# find parameter set which minimises chisq\n",
    "results = optimize.minimize(f, (3, 3), args=(a, hxc, hy))\n",
    "results"
   ]
  },
  {
   "cell_type": "code",
   "execution_count": 12,
   "metadata": {},
   "outputs": [
    {
     "data": {
      "text/plain": [
       "      fun: 101.20417934635324\n",
       " hess_inv: <2x2 LbfgsInvHessProduct with dtype=float64>\n",
       "      jac: array([ -7.10542736e-06,   8.52651283e-06])\n",
       "  message: b'CONVERGENCE: NORM_OF_PROJECTED_GRADIENT_<=_PGTOL'\n",
       "     nfev: 81\n",
       "      nit: 15\n",
       "   status: 0\n",
       "  success: True\n",
       "        x: array([ 5.26031668,  0.8557135 ])"
      ]
     },
     "execution_count": 12,
     "metadata": {},
     "output_type": "execute_result"
    }
   ],
   "source": [
    "# Specify parameter bounds\n",
    "results = optimize.minimize(f, (3, 3), args=(a, hxc, hy), bounds=((None, None), (0.01, None)))\n",
    "results"
   ]
  },
  {
   "cell_type": "code",
   "execution_count": 13,
   "metadata": {
    "collapsed": true
   },
   "outputs": [],
   "source": [
    "# get fit parameters\n",
    "r1 = results.x"
   ]
  },
  {
   "cell_type": "code",
   "execution_count": 14,
   "metadata": {
    "collapsed": true
   },
   "outputs": [],
   "source": [
    "# use MLE method provided in stats (actually understands that this is samples from a distribution)\n",
    "r2 = stats.norm.fit(d)"
   ]
  },
  {
   "cell_type": "code",
   "execution_count": 15,
   "metadata": {},
   "outputs": [
    {
     "name": "stdout",
     "output_type": "stream",
     "text": [
      "true function:  mean = 5.000, sigma = 1.000\n",
      "optimize.fmin:  mean = 5.260, sigma = 0.856\n",
      "stats.norm.fit: mean = 5.223, sigma = 0.939\n"
     ]
    },
    {
     "data": {
      "image/png": "[encoded data removed]",
      "text/plain": [
       "<matplotlib.figure.Figure at 0x119533d30>"
      ]
     },
     "metadata": {},
     "output_type": "display_data"
    }
   ],
   "source": [
    "# plot true function and fit results over histogram\n",
    "x = np.arange(m-3*s, m+3*s, s/10.0)\n",
    "plt.hist(d, bins=hx, histtype='stepfilled', linestyle=None,\n",
    "         alpha=0.25, label='sample')\n",
    "plt.plot(x, g((m, s), a, x), ':', label='true', lw=3)\n",
    "plt.plot(x, g(r1, a, x), label='optimize.fmin', lw=2)\n",
    "plt.plot(x, g(r2, a, x), label='stats.norm.fit', lw=2)\n",
    "plt.legend(prop={'size':'small'})\n",
    "\n",
    "# neatly print results to screen\n",
    "print('true function:  mean = {:5.3f}, sigma = {:5.3f}'.format(m, s))\n",
    "print('optimize.fmin:  mean = {:5.3f}, sigma = {:5.3f}'.format(*r1))\n",
    "print('stats.norm.fit: mean = {:5.3f}, sigma = {:5.3f}'.format(*r2))"
   ]
  },
  {
   "cell_type": "code",
   "execution_count": 16,
   "metadata": {},
   "outputs": [
    {
     "data": {
      "image/png": "[encoded data removed]",
      "text/plain": [
       "<matplotlib.figure.Figure at 0x1194596d8>"
      ]
     },
     "metadata": {},
     "output_type": "display_data"
    }
   ],
   "source": [
    "# Additional note:\n",
    "# trick for drawing a binned function without original sample\n",
    "# add zero bins at each end of distribution\n",
    "hhxc = np.concatenate(([hxc[0]-w], hxc, [hxc[-1]+w]))\n",
    "hhy = np.concatenate(([0], hy, [0]))\n",
    "plt.plot(hhxc, hhy, drawstyle='steps-mid', label='sample')\n",
    "plt.fill_between(hhxc, 0, hhy, step='mid', alpha=0.25)\n",
    "_ = plt.axis(xmin=2, xmax=9, ymin=0, ymax=30)"
   ]
  }
 ],
 "metadata": {
  "hide_input": false,
  "kernelspec": {
   "display_name": "Python [default]",
   "language": "python",
   "name": "python3"
  },
  "language_info": {
   "codemirror_mode": {
    "name": "ipython",
    "version": 3
   },
   "file_extension": ".py",
   "mimetype": "text/x-python",
   "name": "python",
   "nbconvert_exporter": "python",
   "pygments_lexer": "ipython3",
   "version": "3.6.1"
  },
  "latex_envs": {
   "LaTeX_envs_menu_present": true,
   "autocomplete": true,
   "bibliofile": "biblio.bib",
   "cite_by": "apalike",
   "current_citInitial": 1,
   "eqLabelWithNumbers": true,
   "eqNumInitial": 1,
   "hotkeys": {
    "equation": "Ctrl-E",
    "itemize": "Ctrl-I"
   },
   "labels_anchors": false,
   "latex_user_defs": false,
   "report_style_numbering": false,
   "user_envs_cfg": false
  }
 },
 "nbformat": 4,
 "nbformat_minor": 1
}
